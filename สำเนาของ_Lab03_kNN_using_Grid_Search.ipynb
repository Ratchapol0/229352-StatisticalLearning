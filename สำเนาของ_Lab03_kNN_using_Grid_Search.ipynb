{
  "cells": [
    {
      "cell_type": "markdown",
      "metadata": {
        "id": "_50o8bV-nMaF"
      },
      "source": [
        "### Statistical Learning for Data Science 2 (229352)\n",
        "#### Instructor: Donlapark Ponnoprat\n",
        "\n",
        "#### [Course website](https://donlapark.pages.dev/229352/)\n",
        "\n",
        "## Lab #3"
      ]
    },
    {
      "cell_type": "code",
      "execution_count": 1,
      "metadata": {
        "id": "tShvCHLSAsu6",
        "colab": {
          "base_uri": "https://localhost:8080/"
        },
        "outputId": "fec9b8d3-f9ce-456e-a05e-58a4061bf611"
      },
      "outputs": [
        {
          "output_type": "stream",
          "name": "stdout",
          "text": [
            "X: 500\n",
            "y: 500\n"
          ]
        }
      ],
      "source": [
        "from sklearn.datasets import fetch_20newsgroups\n",
        "\n",
        "train = fetch_20newsgroups(subset='train')\n",
        "test = fetch_20newsgroups(subset='test')\n",
        "\n",
        "Xtrain = train.data[:3000]\n",
        "ytrain = train.target[:3000]\n",
        "Xtest = test.data[:500]\n",
        "ytest = test.target[:500]\n",
        "\n",
        "print(\"X:\", len(Xtest))\n",
        "print(\"y:\", len(ytest))"
      ]
    },
    {
      "cell_type": "code",
      "execution_count": 2,
      "metadata": {
        "id": "DunmeISuAxVp",
        "colab": {
          "base_uri": "https://localhost:8080/"
        },
        "outputId": "e65a61be-5880-4b00-b50f-23791764ebd2"
      },
      "outputs": [
        {
          "output_type": "stream",
          "name": "stdout",
          "text": [
            "X[0]: From: lerxst@wam.umd.edu (where's my thing)\n",
            "Subject: WHAT car is this!?\n",
            "Nntp-Posting-Host: rac3.wam.umd.edu\n",
            "Organization: University of Maryland, College Park\n",
            "Lines: 15\n",
            "\n",
            " I was wondering if anyone out there could enlighten me on this car I saw\n",
            "the other day. It was a 2-door sports car, looked to be from the late 60s/\n",
            "early 70s. It was called a Bricklin. The doors were really small. In addition,\n",
            "the front bumper was separate from the rest of the body. This is \n",
            "all I know. If anyone can tellme a model name, engine specs, years\n",
            "of production, where this car is made, history, or whatever info you\n",
            "have on this funky looking car, please e-mail.\n",
            "\n",
            "Thanks,\n",
            "- IL\n",
            "   ---- brought to you by your neighborhood Lerxst ----\n",
            "\n",
            "\n",
            "\n",
            "\n",
            "\n",
            "y[0]: 7\n"
          ]
        }
      ],
      "source": [
        "print(\"X[0]:\", Xtrain[0])\n",
        "print(\"y[0]:\", ytrain[0])"
      ]
    },
    {
      "cell_type": "code",
      "execution_count": 3,
      "metadata": {
        "id": "OJF0Yf8kA4ZM",
        "colab": {
          "base_uri": "https://localhost:8080/"
        },
        "outputId": "f5f11ddd-98d7-4678-cbd6-0f2df3bc4c5b"
      },
      "outputs": [
        {
          "output_type": "execute_result",
          "data": {
            "text/plain": [
              "['alt.atheism',\n",
              " 'comp.graphics',\n",
              " 'comp.os.ms-windows.misc',\n",
              " 'comp.sys.ibm.pc.hardware',\n",
              " 'comp.sys.mac.hardware',\n",
              " 'comp.windows.x',\n",
              " 'misc.forsale',\n",
              " 'rec.autos',\n",
              " 'rec.motorcycles',\n",
              " 'rec.sport.baseball',\n",
              " 'rec.sport.hockey',\n",
              " 'sci.crypt',\n",
              " 'sci.electronics',\n",
              " 'sci.med',\n",
              " 'sci.space',\n",
              " 'soc.religion.christian',\n",
              " 'talk.politics.guns',\n",
              " 'talk.politics.mideast',\n",
              " 'talk.politics.misc',\n",
              " 'talk.religion.misc']"
            ]
          },
          "metadata": {},
          "execution_count": 3
        }
      ],
      "source": [
        "train.target_names"
      ]
    },
    {
      "cell_type": "markdown",
      "metadata": {
        "id": "TKIW_iS8A8KO"
      },
      "source": [
        "### Apply Tfidf ([documentation](https://scikit-learn.org/stable/modules/generated/sklearn.feature_extraction.text.TfidfVectorizer.html))"
      ]
    },
    {
      "cell_type": "code",
      "execution_count": null,
      "metadata": {
        "id": "kkrbh0AtA8g5"
      },
      "outputs": [],
      "source": [
        "from sklearn.feature_extraction.text import TfidfVectorizer\n",
        "\n",
        "# define transformation\n",
        "tfidf =\n",
        "\n",
        "# fit+transform training set\n",
        "Xtrain_tfidf =\n",
        "\n",
        "# See output\n",
        "Xtrain_tfidf"
      ]
    },
    {
      "cell_type": "code",
      "execution_count": null,
      "metadata": {
        "id": "tGt73o2UA_Xg"
      },
      "outputs": [],
      "source": [
        "#tfidf.vocabulary_"
      ]
    },
    {
      "cell_type": "markdown",
      "metadata": {
        "id": "8HWVMJK5g5n5"
      },
      "source": [
        "#### Exercise 1: Find post in the training set that is closest in tf-idf to the first post in the test set (`Xtest[0]`). Print the content of both posts (not the tf-idf vectors)."
      ]
    },
    {
      "cell_type": "code",
      "source": [
        "# prompt: name 'TfidfVectorizer' is not defined\n",
        "\n",
        "tfidf = TfidfVectorizer()\n",
        "Xtrain_tfidf = tfidf.fit_transform(Xtrain)\n",
        "\n",
        "# See output\n",
        "Xtrain_tfidf\n"
      ],
      "metadata": {
        "id": "-aOOFOEphbjR"
      },
      "execution_count": null,
      "outputs": []
    },
    {
      "cell_type": "code",
      "source": [
        "tfidf = TfidfVectorizer()\n",
        "Xtrain_tfidf = tfidf.fit_transform(Xtrain)\n",
        "Xtest_tfidf = tfidf.transform([Xtest[0]])\n",
        "from sklearn.metrics.pairwise import cosine_similarity\n",
        "similarities = cosine_similarity(Xtest_tfidf, Xtrain_tfidf)\n",
        "closest_index = similarities.argsort()[0][-1]\n",
        "print(\"Content of the first post in the test set:\")\n",
        "print(Xtest[0])\n",
        "print(\"\\nContent of the closest post in the training set:\")\n",
        "Xtrain[closest_index]"
      ],
      "metadata": {
        "id": "Nux2mVCJhUF9"
      },
      "execution_count": null,
      "outputs": []
    },
    {
      "cell_type": "markdown",
      "metadata": {
        "id": "8pPpNJ89A_pu"
      },
      "source": [
        "### Classify with k-Nearest Neighbor (kNN) ([documentation](https://scikit-learn.org/stable/modules/generated/sklearn.neighbors.KNeighborsClassifier.html))"
      ]
    },
    {
      "cell_type": "code",
      "execution_count": null,
      "metadata": {
        "id": "7m7rhMAcBCOO"
      },
      "outputs": [],
      "source": [
        "from sklearn.neighbors import KNeighborsClassifier\n",
        "\n",
        "# Define model\n",
        "nb =\n",
        "\n",
        "# Fit the model\n",
        "nb."
      ]
    },
    {
      "cell_type": "markdown",
      "metadata": {
        "id": "UKj8LWkYBFkY"
      },
      "source": [
        "Evaluate on the test set using [`classification_report`](https://scikit-learn.org/stable/modules/generated/sklearn.metrics.classification_report.html)\n",
        "\n",
        "We will focus on the [F1-score](https://scikit-learn.org/stable/modules/generated/sklearn.metrics.f1_score.html)"
      ]
    },
    {
      "cell_type": "code",
      "execution_count": null,
      "metadata": {
        "id": "YfweGKT7Vkc0"
      },
      "outputs": [],
      "source": [
        "from sklearn.metrics import classification_report\n",
        "\n",
        "# Transform the test set\n",
        "Xtest_tfidf =\n",
        "\n",
        "# Make predictions on the test set\n",
        "ypred =\n",
        "\n",
        "#report classification scores\n"
      ]
    },
    {
      "cell_type": "markdown",
      "metadata": {
        "id": "ZNQlI-b7BJyb"
      },
      "source": [
        "### Combine all methods into a [pipeline](https://scikit-learn.org/stable/modules/generated/sklearn.pipeline.Pipeline.html)"
      ]
    },
    {
      "cell_type": "code",
      "execution_count": null,
      "metadata": {
        "id": "6dHo0-mIBK0u"
      },
      "outputs": [],
      "source": [
        "from sklearn.pipeline import Pipeline\n",
        "\n",
        "pipeline = Pipeline([])\n",
        "\n",
        "# Fit the pipeline to the training set\n",
        "\n",
        "\n",
        "# Make predictions on the test set\n",
        "\n",
        "\n",
        "# report classification scores"
      ]
    },
    {
      "cell_type": "markdown",
      "metadata": {
        "id": "uHEZHkyaBNU6"
      },
      "source": [
        "Now we will use [grid search cross-validation](https://scikit-learn.org/stable/modules/generated/sklearn.model_selection.GridSearchCV.html) to find model with the best hyperparameters"
      ]
    },
    {
      "cell_type": "markdown",
      "metadata": {
        "id": "tmE7nqYPEy-G"
      },
      "source": [
        "![5CV](https://scikit-learn.org/stable/_images/grid_search_cross_validation.png)"
      ]
    },
    {
      "cell_type": "code",
      "execution_count": null,
      "metadata": {
        "id": "HRlxCcrvBN9S"
      },
      "outputs": [],
      "source": [
        "from sklearn.model_selection import GridSearchCV\n",
        "\n",
        "params = {}\n",
        "\n",
        "# Define GridSearchCV\n",
        "gridcv = GridSearchCV(pipeline, params,\n",
        "                      scoring='f1_macro', cv=3)\n",
        "\n",
        "# Fit and cross-validate the model on 3-fold data\n"
      ]
    },
    {
      "cell_type": "code",
      "execution_count": null,
      "metadata": {
        "id": "cCd-8EFBBR5F"
      },
      "outputs": [],
      "source": [
        "gridcv.best_estimator_"
      ]
    },
    {
      "cell_type": "code",
      "execution_count": null,
      "metadata": {
        "id": "jv4yI-fYBSBM"
      },
      "outputs": [],
      "source": [
        "# Make predictions on the test set\n",
        "\n",
        "\n",
        "# Report classification scores\n"
      ]
    },
    {
      "cell_type": "markdown",
      "metadata": {
        "id": "wtcscwZPBRJ2"
      },
      "source": [
        "#### Exercise 2:\n",
        "\n",
        "1. Use grid search 5-fold cross-validation across different values of the following two kNN parameters: `n_neighbors` and `metric`  **on the training set** to find the best model.\n",
        "\n",
        "2. For the best value of `n_neighbors` and `metric` you found above, compute the `f1_macro` score **on the test set**.\n",
        "* Print the value of `n_neighbors` and `metric`.\n",
        "* Print the model's `f1_macro` score."
      ]
    },
    {
      "cell_type": "code",
      "execution_count": null,
      "metadata": {
        "id": "U97-Uu5-BTxj"
      },
      "outputs": [],
      "source": [
        "nb = KNeighborsClassifier()\n",
        "tfidf = TfidfVectorizer()\n",
        "pipeline = Pipeline([('tfidf', tfidf), ('nb', nb)])\n",
        "params = {\n",
        "    'nb__n_neighbors': [3, 5, 7, 9],\n",
        "    'nb__metric': ['euclidean', 'cosine']\n",
        "}\n",
        "gridcv = GridSearchCV(pipeline, params, scoring='f1_macro', cv=5)\n",
        "gridcv.fit(Xtrain, ytrain)\n",
        "best_n_neighbors = gridcv.best_params_['nb__n_neighbors']\n",
        "best_metric = gridcv.best_params_['nb__metric']\n",
        "print(f\"Best n_neighbors: {best_n_neighbors}\")\n",
        "print(f\"Best metric: {best_metric}\")\n",
        "best_model = gridcv.best_estimator_\n",
        "ypred = best_model.predict(Xtest)\n",
        "report = classification_report(ytest, ypred, output_dict=True)\n",
        "f1_macro_score = report['macro avg']['f1-score']\n",
        "print(f\"F1-macro score on test set: {f1_macro_score}\")"
      ]
    }
  ],
  "metadata": {
    "colab": {
      "provenance": []
    },
    "kernelspec": {
      "display_name": "Python 3 (ipykernel)",
      "language": "python",
      "name": "python3"
    },
    "language_info": {
      "codemirror_mode": {
        "name": "ipython",
        "version": 3
      },
      "file_extension": ".py",
      "mimetype": "text/x-python",
      "name": "python",
      "nbconvert_exporter": "python",
      "pygments_lexer": "ipython3",
      "version": "3.10.12"
    }
  },
  "nbformat": 4,
  "nbformat_minor": 0
}